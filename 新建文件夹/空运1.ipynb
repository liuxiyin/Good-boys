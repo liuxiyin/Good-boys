{
 "cells": [
  {
   "cell_type": "code",
   "execution_count": 1,
   "id": "d868c788",
   "metadata": {},
   "outputs": [],
   "source": [
    "import json\n",
    "import os\n",
    "import re\n",
    "import time\n",
    "import uuid\n",
    "import pandas as pd\n",
    "import requests\n",
    "from Crypto.Hash import MD5\n",
    "from openpyxl import load_workbook\n",
    "from openpyxl.styles import Alignment, PatternFill, Font\n",
    "from playwright.sync_api import sync_playwright\n",
    "from loguru import logger\n",
    "import datetime\n",
    "import arrow\n",
    "import shutil\n",
    "import openpyxl as op\n",
    "import numpy as np"
   ]
  },
  {
   "cell_type": "code",
   "execution_count": 2,
   "id": "b9413480",
   "metadata": {},
   "outputs": [
    {
     "data": {
      "text/plain": [
       "'2021/11/09'"
      ]
     },
     "execution_count": 2,
     "metadata": {},
     "output_type": "execute_result"
    }
   ],
   "source": [
    "time1 = '09 Nov 2021, 14:30 WET'\n",
    "time1 = time1.split(',')[0]\n",
    "time1 = datetime.datetime.strptime(time1, '%d %b %Y').strftime('%Y/%m/%d')\n",
    "time1"
   ]
  },
  {
   "cell_type": "code",
   "execution_count": 3,
   "id": "6a02cf08",
   "metadata": {
    "scrolled": true
   },
   "outputs": [
    {
     "name": "stdout",
     "output_type": "stream",
     "text": [
      "{'nodeName': '还箱', 'trackTime': '1637605260000', 'location': 'LONG BEACH (CA)', 'sourceInfo': '{\"date\":1637605260000,\"loadPort\":\"NINGBO\",\"location\":\"LONG BEACH (CA)\",\"status\":\"RETURNED FROM CONSIGNEE            \",\"dischargePort\":\"LONG BEACH\"}'} \n",
      "\n",
      "{'nodeName': '提柜', 'trackTime': '1637136180000', 'location': 'SHIPPERS TRANSPORT CARSON (CA)', 'sourceInfo': '{\"date\":1637136180000,\"loadPort\":\"NINGBO\",\"location\":\"SHIPPERS TRANSPORT CARSON (CA)\",\"status\":\"OUTGATE                             to WJZ TRANSPORTATION CORP\",\"dischargePort\":\"LONG BEACH\"}'} \n",
      "\n",
      "{'nodeName': '可提柜', 'trackTime': '1636784640000', 'location': 'SHIPPERS TRANSPORT CARSON (CA)', 'sourceInfo': '{\"date\":1636784640000,\"loadPort\":\"NINGBO\",\"location\":\"SHIPPERS TRANSPORT CARSON (CA)\",\"status\":\"AVAILABLE                          \",\"dischargePort\":\"LONG BEACH\"}'} \n",
      "\n",
      "{'nodeName': '卸船', 'trackTime': '1636738260000', 'location': 'LONG BEACH (CA)', 'sourceInfo': '{\"date\":1636738260000,\"loadPort\":\"NINGBO\",\"location\":\"LONG BEACH (CA)\",\"status\":\"DISCHARGE FROM VESSEL               MATSONIA 017\",\"dischargePort\":\"LONG BEACH\"}'} \n",
      "\n",
      "{'nodeName': '目的国海关放行', 'trackTime': '1636282380000', 'location': '', 'sourceInfo': '{\"date\":1636282380000,\"loadPort\":\"NINGBO\",\"location\":\"\",\"status\":\"HOLD RELEASED                       - Customs Clearance\",\"dischargePort\":\"LONG BEACH\"}'} \n",
      "\n",
      "{'nodeName': '装船', 'trackTime': '1635242460000', 'location': 'NINGBO', 'sourceInfo': '{\"date\":1635242460000,\"loadPort\":\"NINGBO\",\"location\":\"NINGBO\",\"status\":\"LOAD TO VESSEL                      MATSONIA 017\",\"dischargePort\":\"LONG BEACH\"}'} \n",
      "\n",
      "{'nodeName': '进场', 'trackTime': '1634913540000', 'location': 'NINGBO', 'sourceInfo': '{\"date\":1634913540000,\"loadPort\":\"NINGBO\",\"location\":\"NINGBO\",\"status\":\"INGATE                              Full by NINGBO                                   \",\"dischargePort\":\"LONG BEACH\"}'} \n",
      "\n"
     ]
    }
   ],
   "source": [
    "ups_url = 'https://gateway.uniner.com/track-j/api/shippingTrack/query'\n",
    "headers_post = {'Content-Type': 'application/json; charset=utf-8'}\n",
    "data_post = {\n",
    "    \"firmType\": 1,\n",
    "    \"containerNumber\": \"ug01ry\",\n",
    "    \"ladingNumber\": \"MATS3744989000\"\n",
    "\n",
    "}\n",
    "response = requests.post(ups_url, headers=headers_post, json=data_post)\n",
    "trackNodeVos = response.json().get('data').get('trackNodeVos')\n",
    "for i in trackNodeVos:\n",
    "    print(i,'\\n')"
   ]
  },
  {
   "cell_type": "code",
   "execution_count": 4,
   "id": "cfc45015",
   "metadata": {},
   "outputs": [
    {
     "name": "stdout",
     "output_type": "stream",
     "text": [
      "<class 'int'>\n",
      "None\n"
     ]
    }
   ],
   "source": [
    "ups_url = 'https://gateway.uniner.com/track-j/api/shippingTrack/query'\n",
    "headers_post = {'Content-Type': 'application/json; charset=utf-8'}\n",
    "data_post = {\n",
    "    \"firmType\": 3,  # zim  以星  单号可以用\n",
    "    \"containerNumber\": \"ug01ry\",\n",
    "    \"ladingNumber\": \"ZCSU9033387\"\n",
    "\n",
    "}\n",
    "response = requests.post(ups_url, headers=headers_post, json=data_post)\n",
    "print(type(response.json().get('status')))\n",
    "trackNodeVos = response.json().get('data')\n",
    "print(trackNodeVos)"
   ]
  },
  {
   "cell_type": "code",
   "execution_count": 5,
   "id": "11355ab3",
   "metadata": {},
   "outputs": [
    {
     "name": "stdout",
     "output_type": "stream",
     "text": [
      "<class 'int'>\n",
      "None\n"
     ]
    }
   ],
   "source": [
    "ups_url = 'https://gateway.uniner.com/track-j/api/shippingTrack/query'\n",
    "headers_post = {'Content-Type': 'application/json; charset=utf-8'}\n",
    "data_post = {\n",
    "    \"firmType\": 2,  # cma  达飞\n",
    "    \"containerNumber\": \"ug01ry\",\n",
    "    \"ladingNumber\": \"CNXB501624\"\n",
    "\n",
    "}\n",
    "response = requests.post(ups_url, headers=headers_post, json=data_post)\n",
    "print(type(response.json().get('status')))\n",
    "trackNodeVos = response.json().get('data')\n",
    "print(trackNodeVos)"
   ]
  },
  {
   "cell_type": "code",
   "execution_count": 6,
   "id": "c28d579b",
   "metadata": {
    "scrolled": true
   },
   "outputs": [
    {
     "name": "stdout",
     "output_type": "stream",
     "text": [
      "<class 'int'>\n",
      "transportationType3 :\n",
      " Truck \n",
      "\n",
      "transportationType4 :\n",
      " 0 \n",
      "\n",
      "cargoTrackingContainer :\n",
      " [{'ladenReturnDt': '2021-11-27 13:08', 'ndLoadDt1': '2021-12-04 11:38', 'firstPOL': '2021-11-27 13:08', 'cntrNum': 'SEGU9428426', 'ndDischDt1': '2021-12-25 04:50', 'ladenPickUpDt': '2021-12-28 03:54', 'emptyPickUpDt': '2021-11-22 06:11', 'hsCode': [], 'emptyReturnDt': '2021-12-28 15:21'}] \n",
      "\n",
      "bookingNumbersInBillOfLadingTrackingGroupAssociationList :\n",
      " [] \n",
      "\n",
      "actualShipment :\n",
      " [{'voyageNo': '079N', 'sequenceNumber': '1', 'actualArrivalDate': '2021-12-25 03:03', 'actualShippingDate': '2021-12-04 11:38', 'estimatedDateOfArrival': '2021-12-25 02:30', 'vesselCde': 'QEB', 'city': 'Shanghai,China', 'portOfDischarge': 'Shanghai', 'rownum': '1', 'actualDischargeDate': '2021-12-25 04:50', 'expectedDateOfDeparture': '2021-12-05 08:30', 'service': 'JKN', 'portOfLoading': 'Tauranga', 'actualDepartureDate': '2021-12-05 01:53', 'vesselName': 'NYK FUTAGO'}] \n",
      "\n",
      "betdNotice :\n",
      " False \n",
      "\n",
      "lfd :\n",
      " LFD \n",
      "\n",
      "isShow :\n",
      " False \n",
      "\n",
      "trackingPath :\n",
      " {'pod': 'Shanghai - ShanghaiPort Ctn Waigaoqiao Tml Brh', 'svvd': 'JKN QEB078N', 'toCity': 'Shanghai ,China', 'pol': 'Tauranga - Port Of Tauranga Terminal', 'blType': 'Original', 'blRealStatus': 'Original BL Surrendered at Auckland office', 'voyNumber': '079N', 'vslNme': 'NYK FUTAGO', 'cgoAvailTm': '2021-12-25 11:03', 'billOfladingRefCode': '6319742890', 'trackingGroupReferenceCode': '6319742890', 'fromCity': 'Tauranga ,Bay of Plenty ,New Zealand'} \n",
      "\n",
      "usDisplay :\n",
      " False \n",
      "\n",
      "cargoCutOff :\n",
      " 2021-11-28 19:00 \n",
      "\n",
      "usOrCanadaDisplay :\n",
      " False \n",
      "\n",
      "checkHanJin :\n",
      " False \n",
      "\n",
      "isbillOfLadingExist :\n",
      " True \n",
      "\n"
     ]
    }
   ],
   "source": [
    "ups_url = 'https://gateway.uniner.com/track-j/api/shippingTrack/query'\n",
    "headers_post = {'Content-Type': 'application/json; charset=utf-8'}\n",
    "data_post = {\n",
    "    \"firmType\": 4,\n",
    "    \"containerNumber\": \"ug01ry\",\n",
    "    \"ladingNumber\": \"COSU6319742890\"  # BMOU6424230 可以用的单号\n",
    "}\n",
    "response = requests.post(ups_url, headers=headers_post, json=data_post)\n",
    "print(type(response.json().get('status')))\n",
    "trackNodeVos = response.json().get('data')['source']\n",
    "# print(json.loads(trackNodeVos))\n",
    "a = json.loads(trackNodeVos)\n",
    "for i in a:\n",
    "    print(i,':\\n',a[i],'\\n')"
   ]
  },
  {
   "cell_type": "code",
   "execution_count": 7,
   "id": "1fdee9ca",
   "metadata": {
    "scrolled": true
   },
   "outputs": [
    {
     "name": "stdout",
     "output_type": "stream",
     "text": [
      "<class 'int'>\n",
      "{'nodeName': '还箱', 'trackTime': '2022-01-10 17:09', 'location': 'SHANGHAI, SHANGHAI, CHINA', 'sourceInfo': '{\"models\":[],\"no\":\"9\",\"copNo\":\"CHAM1A28545765\",\"skdVoyNo\":\"\",\"vslCd\":\"\",\"vvd\":\"\",\"nodCd\":\"CNSHAE5\",\"hashColumns\":[],\"statusNm\":\"Empty Container Returned from Customer\",\"statusCd\":\"MITYAD\",\"vslEngNm\":\"\",\"placeNm\":\"SHANGHAI, SHANGHAI, CHINA\",\"maxRows\":0,\"skdDirCd\":\"\",\"copDtlSeq\":\"6071\",\"actTpCd\":\"A\",\"lloydNo\":\"\",\"hashFields\":[],\"eventDt\":\"2022-01-10 17:09\",\"yardNm\":\"EASTERN ENTERPRISE DEVELOPMENT(SHANGHAI) CO. LTD\"}'} \n",
      "\n",
      "{'nodeName': '提柜', 'trackTime': '2022-01-10 06:24', 'location': 'SHANGHAI, SHANGHAI, CHINA', 'sourceInfo': '{\"models\":[],\"no\":\"8\",\"copNo\":\"CHAM1A28545765\",\"skdVoyNo\":\"\",\"vslCd\":\"\",\"vvd\":\"\",\"nodCd\":\"CNSHA19\",\"hashColumns\":[],\"statusNm\":\"Gate Out from Inbound Terminal for Delivery to Consignee (or Port Shuttle)\",\"statusCd\":\"FITMDO\",\"vslEngNm\":\"\",\"placeNm\":\"SHANGHAI, SHANGHAI, CHINA\",\"maxRows\":0,\"skdDirCd\":\"\",\"copDtlSeq\":\"6054\",\"actTpCd\":\"A\",\"lloydNo\":\"\",\"hashFields\":[],\"eventDt\":\"2022-01-10 06:24\",\"yardNm\":\"SIPG - SHANGDONG BRANCH\"}'} \n",
      "\n",
      "{'nodeName': '卸船', 'trackTime': '2021-12-23 03:49', 'location': 'SHANGHAI, SHANGHAI, CHINA', 'sourceInfo': '{\"models\":[],\"no\":\"7\",\"copNo\":\"CHAM1A28545765\",\"skdVoyNo\":\"0014\",\"vslCd\":\"MTLT\",\"vvd\":\"MOL TREASURE 014E\",\"nodCd\":\"CNSHA19\",\"hashColumns\":[],\"statusNm\":\"Unloaded from \\'MOL TREASURE 014E\\' at Port of Discharging\",\"statusCd\":\"FUVMUD\",\"vslEngNm\":\"MOL TREASURE\",\"placeNm\":\"SHANGHAI, SHANGHAI, CHINA\",\"maxRows\":0,\"skdDirCd\":\"E\",\"copDtlSeq\":\"6053\",\"actTpCd\":\"A\",\"lloydNo\":\"9773222\",\"hashFields\":[],\"eventDt\":\"2021-12-23 03:49\",\"yardNm\":\"SIPG - SHANGDONG BRANCH\"}'} \n",
      "\n",
      "{'nodeName': 'FUVMBD', 'trackTime': '2021-12-22 16:00', 'location': 'SHANGHAI, SHANGHAI, CHINA', 'sourceInfo': '{\"models\":[],\"no\":\"6\",\"copNo\":\"CHAM1A28545765\",\"skdVoyNo\":\"0014\",\"vslCd\":\"MTLT\",\"vvd\":\"MOL TREASURE 014E\",\"nodCd\":\"CNSHA19\",\"hashColumns\":[],\"statusNm\":\"\\'MOL TREASURE 014E\\' POD Berthing Destination\",\"statusCd\":\"FUVMBD\",\"vslEngNm\":\"MOL TREASURE\",\"placeNm\":\"SHANGHAI, SHANGHAI, CHINA\",\"maxRows\":0,\"skdDirCd\":\"E\",\"copDtlSeq\":\"4052\",\"actTpCd\":\"A\",\"lloydNo\":\"9773222\",\"hashFields\":[],\"eventDt\":\"2021-12-22 16:00\",\"yardNm\":\"SIPG - SHANGDONG BRANCH\"}'} \n",
      "\n",
      "{'nodeName': '到达', 'trackTime': '2021-12-22 13:30', 'location': 'SHANGHAI, SHANGHAI, CHINA', 'sourceInfo': '{\"models\":[],\"no\":\"5\",\"copNo\":\"CHAM1A28545765\",\"skdVoyNo\":\"0014\",\"vslCd\":\"MTLT\",\"vvd\":\"MOL TREASURE 014E\",\"nodCd\":\"CNSHA19\",\"hashColumns\":[],\"statusNm\":\"\\'MOL TREASURE 014E\\' Arrival at Port of Discharging\",\"statusCd\":\"FUVMAD\",\"vslEngNm\":\"MOL TREASURE\",\"placeNm\":\"SHANGHAI, SHANGHAI, CHINA\",\"maxRows\":0,\"skdDirCd\":\"E\",\"copDtlSeq\":\"4051\",\"actTpCd\":\"A\",\"lloydNo\":\"9773222\",\"hashFields\":[],\"eventDt\":\"2021-12-22 13:30\",\"yardNm\":\"SIPG - SHANGDONG BRANCH\"}'} \n",
      "\n",
      "{'nodeName': '离开', 'trackTime': '2021-11-19 18:04', 'location': 'HAMBURG, HH, GERMANY', 'sourceInfo': '{\"models\":[],\"no\":\"4\",\"copNo\":\"CHAM1A28545765\",\"skdVoyNo\":\"0014\",\"vslCd\":\"MTLT\",\"vvd\":\"MOL TREASURE 014E\",\"nodCd\":\"DEHAM02\",\"hashColumns\":[],\"statusNm\":\"\\'MOL TREASURE 014E\\' Departure from Port of Loading\",\"statusCd\":\"FLVMDO\",\"vslEngNm\":\"MOL TREASURE\",\"placeNm\":\"HAMBURG, HH, GERMANY\",\"maxRows\":0,\"skdDirCd\":\"E\",\"copDtlSeq\":\"4033\",\"actTpCd\":\"A\",\"lloydNo\":\"9773222\",\"hashFields\":[],\"eventDt\":\"2021-11-19 18:04\",\"yardNm\":\"CTB (HHLA CONTAINER TERMINAL BUCHARDKAI)\"}'} \n",
      "\n",
      "{'nodeName': '装船', 'trackTime': '2021-11-19 00:01', 'location': 'HAMBURG, HH, GERMANY', 'sourceInfo': '{\"models\":[],\"no\":\"3\",\"copNo\":\"CHAM1A28545765\",\"skdVoyNo\":\"0014\",\"vslCd\":\"MTLT\",\"vvd\":\"MOL TREASURE 014E\",\"nodCd\":\"DEHAM02\",\"hashColumns\":[],\"statusNm\":\"Loaded on \\'MOL TREASURE 014E\\' at Port of Loading\",\"statusCd\":\"FLVMLO\",\"vslEngNm\":\"MOL TREASURE\",\"placeNm\":\"HAMBURG, HH, GERMANY\",\"maxRows\":0,\"skdDirCd\":\"E\",\"copDtlSeq\":\"1032\",\"actTpCd\":\"A\",\"lloydNo\":\"9773222\",\"hashFields\":[],\"eventDt\":\"2021-11-19 00:01\",\"yardNm\":\"CTB (HHLA CONTAINER TERMINAL BUCHARDKAI)\"}'} \n",
      "\n",
      "{'nodeName': '进场', 'trackTime': '2021-11-15 10:42', 'location': 'HAMBURG, HH, GERMANY', 'sourceInfo': '{\"models\":[],\"no\":\"2\",\"copNo\":\"CHAM1A28545765\",\"skdVoyNo\":\"\",\"vslCd\":\"\",\"vvd\":\"\",\"nodCd\":\"DEHAM02\",\"hashColumns\":[],\"statusNm\":\"Gate In to Outbound Terminal\",\"statusCd\":\"FOTMAD\",\"vslEngNm\":\"\",\"placeNm\":\"HAMBURG, HH, GERMANY\",\"maxRows\":0,\"skdDirCd\":\"\",\"copDtlSeq\":\"1031\",\"actTpCd\":\"A\",\"lloydNo\":\"\",\"hashFields\":[],\"eventDt\":\"2021-11-15 10:42\",\"yardNm\":\"CTB (HHLA CONTAINER TERMINAL BUCHARDKAI)\"}'} \n",
      "\n",
      "{'nodeName': '提箱', 'trackTime': '2021-11-02 07:20', 'location': 'HAMBURG, HH, GERMANY', 'sourceInfo': '{\"models\":[],\"no\":\"1\",\"copNo\":\"CHAM1A28545765\",\"skdVoyNo\":\"\",\"vslCd\":\"\",\"vvd\":\"\",\"nodCd\":\"DEHAM01\",\"hashColumns\":[[\"no\",\"1\"],[\"bl_no\",{}],[\"cntr_no\",{}],[\"cntr_tpsz_nm\",{}],[\"ibflag\",{}],[\"event_dt\",\"2021-11-02 07:20\"],[\"lloyd_no\",\"\"],[\"cop_dtl_seq\",\"1011\"],[\"yard_cd\",{}],[\"seal_no\",{}],[\"vgm_rcv\",{}],[\"dsp_bkg_no\",{}],[\"place_cd\",{}],[\"status_cd\",\"MOTYDO\"],[\"cop_no\",\"CHAM1A28545765\"],[\"nod_cd\",\"DEHAM01\"],[\"act_tp_cd\",\"A\"],[\"po_no\",{}],[\"soc_flg\",{}],[\"pagerows\",{}],[\"cntr_tpsz_cd\",{}],[\"enbl_flag\",{}],[\"vvd\",\"\"],[\"weight\",{}],[\"yard_nm\",\"CTA (CONTAINER TERMINAL ALTENWERDER)\"],[\"cntr_flg\",{}],[\"bkg_no\",{}],[\"vsl_eng_nm\",\"\"],[\"vsl_cd\",\"\"],[\"cop_sts_cd\",{}],[\"piece\",{}],[\"mvmt_sts_cd\",{}],[\"status_nm\",\"Empty Container Release to Shipper\"],[\"skd_dir_cd\",\"\"],[\"place_nm\",\"HAMBURG, HH, GERMANY\"],[\"skd_voy_no\",\"\"]],\"statusNm\":\"Empty Container Release to Shipper\",\"statusCd\":\"MOTYDO\",\"vslEngNm\":\"\",\"placeNm\":\"HAMBURG, HH, GERMANY\",\"maxRows\":0,\"skdDirCd\":\"\",\"copDtlSeq\":\"1011\",\"actTpCd\":\"A\",\"lloydNo\":\"\",\"hashFields\":[],\"eventDt\":\"2021-11-02 07:20\",\"yardNm\":\"CTA (CONTAINER TERMINAL ALTENWERDER)\"}'} \n",
      "\n"
     ]
    }
   ],
   "source": [
    "ups_url = 'https://gateway.uniner.com/track-j/api/shippingTrack/query'\n",
    "headers_post = {'Content-Type': 'application/json; charset=utf-8'}\n",
    "data_post = {\n",
    "    \"firmType\": 5,  # one\n",
    "    \"containerNumber\": \"ug01ry\",\n",
    "    \"ladingNumber\": \"ONEYHAMBE2461900\"\n",
    "}\n",
    "response = requests.post(ups_url, headers=headers_post, json=data_post)\n",
    "print(type(response.json().get('status')))\n",
    "data = response.json().get('data')\n",
    "trackNodeVos = data['trackNodeVos']\n",
    "for i in trackNodeVos:\n",
    "    print(i,'\\n')"
   ]
  },
  {
   "cell_type": "code",
   "execution_count": 8,
   "id": "3cd4802f",
   "metadata": {
    "collapsed": true
   },
   "outputs": [
    {
     "name": "stdout",
     "output_type": "stream",
     "text": [
      "<class 'int'>\n",
      "{'nodeName': '提柜', 'trackTime': 'DEC-29-2021', 'location': 'LAEM CHABANG (TH)', 'sourceInfo': '{\"Container Moves\":\"Pick-up by merchant haulage\",\"Vessel Voyage\":\"\",\"Date\":\"DEC-29-2021\",\"Location\":\"LAEM CHABANG (TH)\"}'} \n",
      "\n",
      "{'nodeName': '还箱', 'trackTime': 'DEC-29-2021', 'location': 'LAEM CHABANG (TH)', 'sourceInfo': '{\"Container Moves\":\"Empty container returned\",\"Vessel Voyage\":\"\",\"Date\":\"DEC-29-2021\",\"Location\":\"LAEM CHABANG (TH)\"}'} \n",
      "\n",
      "{'nodeName': '卸船', 'trackTime': 'DEC-24-2021', 'location': 'LAEM CHABANG (TH)', 'sourceInfo': '{\"Container Moves\":\"Discharged (FCL)\",\"Vessel Voyage\":\"EVER CAST 0111-030A\",\"Date\":\"DEC-24-2021\",\"Location\":\"LAEM CHABANG (TH)\"}'} \n",
      "\n",
      "{'nodeName': '装船', 'trackTime': 'DEC-17-2021', 'location': 'SHANGHAI (CN)', 'sourceInfo': '{\"Container Moves\":\"Loaded (FCL) on vessel\",\"Vessel Voyage\":\"EVER CAST 0111-030A\",\"Date\":\"DEC-17-2021\",\"Location\":\"SHANGHAI (CN)\"}'} \n",
      "\n",
      "{'nodeName': '进场', 'trackTime': 'DEC-15-2021', 'location': 'SHANGHAI (CN)', 'sourceInfo': '{\"Container Moves\":\"Received (FCL)\",\"Vessel Voyage\":\"\",\"Date\":\"DEC-15-2021\",\"Location\":\"SHANGHAI (CN)\"}'} \n",
      "\n",
      "{'nodeName': '提箱', 'trackTime': 'DEC-11-2021', 'location': 'SHANGHAI (CN)', 'sourceInfo': '{\"Container Moves\":\"Empty pick-up by merchant haulage\",\"Vessel Voyage\":\"\",\"Date\":\"DEC-11-2021\",\"Location\":\"SHANGHAI (CN)\"}'} \n",
      "\n"
     ]
    }
   ],
   "source": [
    "ups_url = 'https://gateway.uniner.com/track-j/api/shippingTrack/query'\n",
    "headers_post = {'Content-Type': 'application/json; charset=utf-8'}\n",
    "data_post = {\n",
    "    \"firmType\": 6,\n",
    "    \"containerNumber\": \"ug01ry\",\n",
    "    \"ladingNumber\": \"142104497108\"\n",
    "}\n",
    "response = requests.post(ups_url, headers=headers_post, json=data_post)\n",
    "print(type(response.json().get('status')))\n",
    "data = response.json().get('data')\n",
    "trackNodeVos = data['trackNodeVos']\n",
    "for i in trackNodeVos:\n",
    "    print(i,'\\n')"
   ]
  },
  {
   "cell_type": "code",
   "execution_count": 10,
   "id": "3da38129",
   "metadata": {
    "collapsed": true
   },
   "outputs": [
    {
     "name": "stdout",
     "output_type": "stream",
     "text": [
      "{'status': 200, 'message': '成功', 'data': {'containerNumber': None, 'checkDigit': None, 'trackNodeVos': None, 'source': None}}\n"
     ]
    },
    {
     "ename": "TypeError",
     "evalue": "'NoneType' object is not iterable",
     "output_type": "error",
     "traceback": [
      "\u001b[1;31m---------------------------------------------------------------------------\u001b[0m",
      "\u001b[1;31mTypeError\u001b[0m                                 Traceback (most recent call last)",
      "Input \u001b[1;32mIn [10]\u001b[0m, in \u001b[0;36m<module>\u001b[1;34m\u001b[0m\n\u001b[0;32m     10\u001b[0m data \u001b[38;5;241m=\u001b[39m response\u001b[38;5;241m.\u001b[39mjson()\u001b[38;5;241m.\u001b[39mget(\u001b[38;5;124m'\u001b[39m\u001b[38;5;124mdata\u001b[39m\u001b[38;5;124m'\u001b[39m)\n\u001b[0;32m     11\u001b[0m trackNodeVos \u001b[38;5;241m=\u001b[39m data[\u001b[38;5;124m'\u001b[39m\u001b[38;5;124mtrackNodeVos\u001b[39m\u001b[38;5;124m'\u001b[39m]\n\u001b[1;32m---> 12\u001b[0m \u001b[38;5;28;01mfor\u001b[39;00m i \u001b[38;5;129;01min\u001b[39;00m trackNodeVos:\n\u001b[0;32m     13\u001b[0m     \u001b[38;5;28mprint\u001b[39m(i,\u001b[38;5;124m'\u001b[39m\u001b[38;5;130;01m\\n\u001b[39;00m\u001b[38;5;124m'\u001b[39m)\n",
      "\u001b[1;31mTypeError\u001b[0m: 'NoneType' object is not iterable"
     ]
    }
   ],
   "source": [
    "ups_url = 'https://gateway.uniner.com/track-j/api/shippingTrack/query'\n",
    "headers_post = {'Content-Type': 'application/json; charset=utf-8'}\n",
    "data_post = {\n",
    "    \"firmType\": 7,\n",
    "    \"containerNumber\": \"ug01ry\",\n",
    "    \"ladingNumber\": \"OOLU2683028710\"\n",
    "}\n",
    "response = requests.post(ups_url, headers=headers_post, json=data_post)\n",
    "print(response.json())\n",
    "data = response.json().get('data')\n",
    "trackNodeVos = data['trackNodeVos']\n",
    "for i in trackNodeVos:\n",
    "    print(i,'\\n')"
   ]
  },
  {
   "cell_type": "code",
   "execution_count": 11,
   "id": "111cbad2",
   "metadata": {
    "collapsed": true
   },
   "outputs": [
    {
     "name": "stdout",
     "output_type": "stream",
     "text": [
      "<class 'int'>\n",
      "{'nodeName': '还箱', 'trackTime': '2022-01-05 04:43:00', 'location': '锦亿浦东', 'sourceInfo': '{\"CNTR_TYPE_COD\":\"HC\",\"CNTR_NO\":\"SEGU6334642\",\"CNTR_SIZE_COD\":\"40\",\"STAT_DTE\":\"2022-01-05 04:43:00\",\"STAT_NAM\":\"进口客户还空\",\"E_PLACE_NAM\":\"JINYI PU DONG \",\"PLACE_NAM\":\"锦亿浦东\",\"E_STAT_NAM\":\"Empty in by consignee\"}'} \n",
      "\n",
      "{'nodeName': '提柜', 'trackTime': '2022-01-04 12:22:00', 'location': '外高桥五期', 'sourceInfo': '{\"CNTR_TYPE_COD\":\"HC\",\"CNTR_NO\":\"SEGU6334642\",\"CNTR_SIZE_COD\":\"40\",\"STAT_DTE\":\"2022-01-04 12:22:00\",\"STAT_NAM\":\"进口客户提重\",\"E_PLACE_NAM\":\"WAI GAO QIAO 5\",\"PLACE_NAM\":\"外高桥五期\",\"E_STAT_NAM\":\"Full out by consignee\"}'} \n",
      "\n",
      "{'nodeName': '卸船', 'trackTime': '2021-12-27 15:30:25', 'location': '外高桥五期', 'sourceInfo': '{\"CNTR_TYPE_COD\":\"HC\",\"CNTR_NO\":\"SEGU6334642\",\"CNTR_SIZE_COD\":\"40\",\"STAT_DTE\":\"2021-12-27 15:30:25\",\"STAT_NAM\":\"进口重箱卸船\",\"E_PLACE_NAM\":\"WAI GAO QIAO 5\",\"PLACE_NAM\":\"外高桥五期\",\"E_STAT_NAM\":\"Full off vessel\"}'} \n",
      "\n",
      "{'nodeName': '装船', 'trackTime': '2021-12-24 12:10:00', 'location': '夢洲CONTAINER TERMINAL (DICT)', 'sourceInfo': '{\"CNTR_TYPE_COD\":\"HC\",\"CNTR_NO\":\"SEGU6334642\",\"CNTR_SIZE_COD\":\"40\",\"STAT_DTE\":\"2021-12-24 12:10:00\",\"STAT_NAM\":\"出口重箱装船\",\"E_PLACE_NAM\":\"YUMESHAINAHIGASHI\",\"PLACE_NAM\":\"夢洲CONTAINER TERMINAL (DICT)\",\"E_STAT_NAM\":\"Full onto vessel\"}'} \n",
      "\n",
      "{'nodeName': '进场', 'trackTime': '2021-12-23 14:31:00', 'location': '夢洲CONTAINER TERMINAL (DICT)', 'sourceInfo': '{\"CNTR_TYPE_COD\":\"HC\",\"CNTR_NO\":\"SEGU6334642\",\"CNTR_SIZE_COD\":\"40\",\"STAT_DTE\":\"2021-12-23 14:31:00\",\"STAT_NAM\":\"出口重箱进港\",\"E_PLACE_NAM\":\"YUMESHAINAHIGASHI\",\"PLACE_NAM\":\"夢洲CONTAINER TERMINAL (DICT)\",\"E_STAT_NAM\":\"Export full in terminal\"}'} \n",
      "\n",
      "{'nodeName': '提箱', 'trackTime': '2021-12-21 13:39:00', 'location': '南港C-6', 'sourceInfo': '{\"CNTR_TYPE_COD\":\"HC\",\"CNTR_NO\":\"SEGU6334642\",\"CNTR_SIZE_COD\":\"40\",\"STAT_DTE\":\"2021-12-21 13:39:00\",\"STAT_NAM\":\"出口客户提空\",\"E_PLACE_NAM\":\"NANKONAKA\",\"PLACE_NAM\":\"南港C-6\",\"E_STAT_NAM\":\"Empty out by shipper\"}'} \n",
      "\n"
     ]
    }
   ],
   "source": [
    "ups_url = 'https://gateway.uniner.com/track-j/api/shippingTrack/query'\n",
    "headers_post = {'Content-Type': 'application/json; charset=utf-8'}\n",
    "data_post = {\n",
    "    \"firmType\": 8,\n",
    "    \"containerNumber\": \"ug01ry\",\n",
    "    \"ladingNumber\": \"JJCOSSHKNC1ZB21\"\n",
    "}\n",
    "response = requests.post(ups_url, headers=headers_post, json=data_post)\n",
    "print(type(response.json().get('status')))\n",
    "data = response.json().get('data')\n",
    "trackNodeVos = data['trackNodeVos']\n",
    "for i in trackNodeVos:\n",
    "    print(i,'\\n')"
   ]
  },
  {
   "cell_type": "code",
   "execution_count": null,
   "id": "1580a32c",
   "metadata": {
    "scrolled": true
   },
   "outputs": [],
   "source": [
    "r = requests.get('https://api.github.com/events')\n",
    "l = json.loads(r.text)  # r.text是网页反馈的response\n",
    "r.encoding  # 编码方式\n",
    "#r.content  # 反馈的response的正文\n",
    "r.encoding = 'ISO-8859-1'"
   ]
  },
  {
   "cell_type": "code",
   "execution_count": null,
   "id": "e177f4a1",
   "metadata": {},
   "outputs": [],
   "source": [
    "from PIL import Image\n",
    "from io import BytesIO\n",
    "\n",
    "#i = Image.open(BytesIO(r.content))\n",
    "response  = requests.get(\"https://www.baidu.com\")\n",
    "print('type(response):',type(response),'\\n')\n",
    "print('response.status_code:',response.status_code,'\\n')\n",
    "print('type(response.text):',type(response.text),'\\n')\n",
    "print('response.text:',response.text,'\\n')\n",
    "print('response.cookies:',response.cookies,'\\n')\n",
    "print('response.content:',response.content,'\\n')\n",
    "print('response.content.decode(\"utf-8\"):',response.content.decode(\"utf-8\"),'\\n')"
   ]
  },
  {
   "cell_type": "code",
   "execution_count": 21,
   "id": "fddbcf94",
   "metadata": {
    "scrolled": true
   },
   "outputs": [
    {
     "name": "stdout",
     "output_type": "stream",
     "text": [
      "{'trackTime': '2021-12-08T09:56:00', 'nodeName': '已派送', 'nodeCode': None, 'location': 'COTONOU - BENIN', 'sourceInfo': '{\"pieceIds\":[\"JD014600009308667583\"],\"description\":\"已派送\",\"location\":{\"address\":{\"addressLocality\":\"COTONOU - BENIN\"}},\"timestamp\":\"2021-12-08T09:56:00\"}'} \n",
      "\n",
      "{'trackTime': '2021-12-08T08:35:00', 'nodeName': '快件正在派送中', 'nodeCode': None, 'location': 'COTONOU - BENIN', 'sourceInfo': '{\"pieceIds\":[\"JD014600009308667583\"],\"description\":\"快件正在派送中\",\"location\":{\"address\":{\"addressLocality\":\"COTONOU - BENIN\"}},\"timestamp\":\"2021-12-08T08:35:00\"}'} \n",
      "\n",
      "{'trackTime': '2021-12-07T20:41:00', 'nodeName': '到达服务网点 COTONOU - BENIN', 'nodeCode': None, 'location': 'COTONOU - BENIN', 'sourceInfo': '{\"pieceIds\":[\"JD014600009308667583\"],\"description\":\"到达服务网点 COTONOU - BENIN\",\"location\":{\"address\":{\"addressLocality\":\"COTONOU - BENIN\"}},\"timestamp\":\"2021-12-07T20:41:00\"}'} \n",
      "\n",
      "{'trackTime': '2021-12-07T20:22:00', 'nodeName': '海关已放行 COTONOU - BENIN', 'nodeCode': None, 'location': 'COTONOU - BENIN', 'sourceInfo': '{\"pieceIds\":[\"JD014600009308667583\"],\"description\":\"海关已放行 COTONOU - BENIN\",\"location\":{\"address\":{\"addressLocality\":\"COTONOU - BENIN\"}},\"timestamp\":\"2021-12-07T20:22:00\"}'} \n",
      "\n",
      "{'trackTime': '2021-12-07T20:18:00', 'nodeName': '到达转运中心 COTONOU - BENIN', 'nodeCode': None, 'location': 'COTONOU - BENIN', 'sourceInfo': '{\"pieceIds\":[\"JD014600009308667583\"],\"description\":\"到达转运中心 COTONOU - BENIN\",\"location\":{\"address\":{\"addressLocality\":\"COTONOU - BENIN\"}},\"timestamp\":\"2021-12-07T20:18:00\"}'} \n",
      "\n",
      "{'trackTime': '2021-12-07T20:12:00', 'nodeName': '海关清关状态更新。 注意;快件在转运至目的地的过程中即可开始清关申报流程', 'nodeCode': None, 'location': 'COTONOU - BENIN', 'sourceInfo': '{\"description\":\"海关清关状态更新。 注意;快件在转运至目的地的过程中即可开始清关申报流程\",\"location\":{\"address\":{\"addressLocality\":\"COTONOU - BENIN\"}},\"timestamp\":\"2021-12-07T20:12:00\"}'} \n",
      "\n",
      "{'trackTime': '2021-12-07T16:31:00', 'nodeName': '快件已离开了DHL转运网点 LAGOS - NIGERIA', 'nodeCode': None, 'location': 'LAGOS - NIGERIA', 'sourceInfo': '{\"pieceIds\":[\"JD014600009308667583\"],\"description\":\"快件已离开了DHL转运网点 LAGOS - NIGERIA\",\"location\":{\"address\":{\"addressLocality\":\"LAGOS - NIGERIA\"}},\"timestamp\":\"2021-12-07T16:31:00\"}'} \n",
      "\n",
      "{'trackTime': '2021-12-07T14:50:00', 'nodeName': '正在安排下一站转运 LAGOS - NIGERIA', 'nodeCode': None, 'location': 'LAGOS - NIGERIA', 'sourceInfo': '{\"pieceIds\":[\"JD014600009308667583\"],\"description\":\"正在安排下一站转运 LAGOS - NIGERIA\",\"location\":{\"address\":{\"addressLocality\":\"LAGOS - NIGERIA\"}},\"timestamp\":\"2021-12-07T14:50:00\"}'} \n",
      "\n",
      "{'trackTime': '2021-12-07T14:34:00', 'nodeName': '到达转运中心 LAGOS - NIGERIA', 'nodeCode': None, 'location': 'LAGOS - NIGERIA', 'sourceInfo': '{\"pieceIds\":[\"JD014600009308667583\"],\"description\":\"到达转运中心 LAGOS - NIGERIA\",\"location\":{\"address\":{\"addressLocality\":\"LAGOS - NIGERIA\"}},\"timestamp\":\"2021-12-07T14:34:00\"}'} \n",
      "\n",
      "{'trackTime': '2021-12-07T07:29:00', 'nodeName': '快件已离开了DHL转运网点 BRUSSELS - BELGIUM', 'nodeCode': None, 'location': 'BRUSSELS - BELGIUM', 'sourceInfo': '{\"pieceIds\":[\"JD014600009308667583\"],\"description\":\"快件已离开了DHL转运网点 BRUSSELS - BELGIUM\",\"location\":{\"address\":{\"addressLocality\":\"BRUSSELS - BELGIUM\"}},\"timestamp\":\"2021-12-07T07:29:00\"}'} \n",
      "\n",
      "{'trackTime': '2021-12-07T07:28:00', 'nodeName': '快件正在转运途中 BRUSSELS - BELGIUM', 'nodeCode': None, 'location': 'BRUSSELS - BELGIUM', 'sourceInfo': '{\"pieceIds\":[\"JD014600009308667583\"],\"description\":\"快件正在转运途中 BRUSSELS - BELGIUM\",\"location\":{\"address\":{\"addressLocality\":\"BRUSSELS - BELGIUM\"}},\"timestamp\":\"2021-12-07T07:28:00\"}'} \n",
      "\n",
      "{'trackTime': '2021-12-07T03:46:00', 'nodeName': '快件已离开了DHL转运网点 LEIPZIG - GERMANY', 'nodeCode': None, 'location': 'LEIPZIG - GERMANY', 'sourceInfo': '{\"pieceIds\":[\"JD014600009308667583\"],\"description\":\"快件已离开了DHL转运网点 LEIPZIG - GERMANY\",\"location\":{\"address\":{\"addressLocality\":\"LEIPZIG - GERMANY\"}},\"timestamp\":\"2021-12-07T03:46:00\"}'} \n",
      "\n",
      "{'trackTime': '2021-12-06T22:02:00', 'nodeName': '正在安排下一站转运 LEIPZIG - GERMANY', 'nodeCode': None, 'location': 'LEIPZIG - GERMANY', 'sourceInfo': '{\"pieceIds\":[\"JD014600009308667583\"],\"description\":\"正在安排下一站转运 LEIPZIG - GERMANY\",\"location\":{\"address\":{\"addressLocality\":\"LEIPZIG - GERMANY\"}},\"timestamp\":\"2021-12-06T22:02:00\"}'} \n",
      "\n",
      "{'trackTime': '2021-12-06T21:36:00', 'nodeName': '到达转运中心 LEIPZIG - GERMANY', 'nodeCode': None, 'location': 'LEIPZIG - GERMANY', 'sourceInfo': '{\"pieceIds\":[\"JD014600009308667583\"],\"description\":\"到达转运中心 LEIPZIG - GERMANY\",\"location\":{\"address\":{\"addressLocality\":\"LEIPZIG - GERMANY\"}},\"timestamp\":\"2021-12-06T21:36:00\"}'} \n",
      "\n",
      "{'trackTime': '2021-12-06T14:03:00', 'nodeName': '快件已离开了DHL转运网点 HONG KONG - HONG KONG SAR, CHINA', 'nodeCode': None, 'location': 'HONG KONG - HONG KONG SAR, CHINA', 'sourceInfo': '{\"pieceIds\":[\"JD014600009308667583\"],\"description\":\"快件已离开了DHL转运网点 HONG KONG - HONG KONG SAR, CHINA\",\"location\":{\"address\":{\"addressLocality\":\"HONG KONG - HONG KONG SAR, CHINA\"}},\"timestamp\":\"2021-12-06T14:03:00\"}'} \n",
      "\n",
      "{'trackTime': '2021-12-06T09:38:00', 'nodeName': '正在安排下一站转运 HONG KONG - HONG KONG SAR, CHINA', 'nodeCode': None, 'location': 'HONG KONG - HONG KONG SAR, CHINA', 'sourceInfo': '{\"pieceIds\":[\"JD014600009308667583\"],\"description\":\"正在安排下一站转运 HONG KONG - HONG KONG SAR, CHINA\",\"location\":{\"address\":{\"addressLocality\":\"HONG KONG - HONG KONG SAR, CHINA\"}},\"timestamp\":\"2021-12-06T09:38:00\"}'} \n",
      "\n",
      "{'trackTime': '2021-12-05T09:34:00', 'nodeName': '快件处于操作过程中', 'nodeCode': None, 'location': 'HONG KONG - HONG KONG SAR, CHINA', 'sourceInfo': '{\"pieceIds\":[\"JD014600009308667583\"],\"description\":\"快件处于操作过程中\",\"location\":{\"address\":{\"addressLocality\":\"HONG KONG - HONG KONG SAR, CHINA\"}},\"timestamp\":\"2021-12-05T09:34:00\"}'} \n",
      "\n",
      "{'trackTime': '2021-12-05T05:50:00', 'nodeName': '到达转运中心 HONG KONG - HONG KONG SAR, CHINA', 'nodeCode': None, 'location': 'HONG KONG - HONG KONG SAR, CHINA', 'sourceInfo': '{\"pieceIds\":[\"JD014600009308667583\"],\"description\":\"到达转运中心 HONG KONG - HONG KONG SAR, CHINA\",\"location\":{\"address\":{\"addressLocality\":\"HONG KONG - HONG KONG SAR, CHINA\"}},\"timestamp\":\"2021-12-05T05:50:00\"}'} \n",
      "\n",
      "{'trackTime': '2021-12-05T04:54:00', 'nodeName': '快件已离开了DHL转运网点 HONG KONG - HONG KONG SAR, CHINA', 'nodeCode': None, 'location': 'HONG KONG - HONG KONG SAR, CHINA', 'sourceInfo': '{\"pieceIds\":[\"JD014600009308667583\"],\"description\":\"快件已离开了DHL转运网点 HONG KONG - HONG KONG SAR, CHINA\",\"location\":{\"address\":{\"addressLocality\":\"HONG KONG - HONG KONG SAR, CHINA\"}},\"timestamp\":\"2021-12-05T04:54:00\"}'} \n",
      "\n",
      "{'trackTime': '2021-12-05T02:58:00', 'nodeName': '正在安排下一站转运 HONG KONG - HONG KONG SAR, CHINA', 'nodeCode': None, 'location': 'HONG KONG - HONG KONG SAR, CHINA', 'sourceInfo': '{\"pieceIds\":[\"JD014600009308667583\"],\"description\":\"正在安排下一站转运 HONG KONG - HONG KONG SAR, CHINA\",\"location\":{\"address\":{\"addressLocality\":\"HONG KONG - HONG KONG SAR, CHINA\"}},\"timestamp\":\"2021-12-05T02:58:00\"}'} \n",
      "\n",
      "{'trackTime': '2021-12-05T02:39:00', 'nodeName': 'DHL已取件', 'nodeCode': None, 'location': 'HONG KONG - HONG KONG SAR, CHINA', 'sourceInfo': '{\"pieceIds\":[\"JD014600009308667583\"],\"description\":\"DHL已取件\",\"location\":{\"address\":{\"addressLocality\":\"HONG KONG - HONG KONG SAR, CHINA\"}},\"timestamp\":\"2021-12-05T02:39:00\"}'} \n",
      "\n"
     ]
    }
   ],
   "source": [
    "ups_url = 'https://gateway.uniner.com/track-j/api/expressTrack/query'\n",
    "headers_post = {'Content-Type': 'application/json; charset=utf-8'}\n",
    "data_post = {\n",
    "    \"firmType\": 4,\n",
    "    \"waybillNo\": \"3400621335\"\n",
    "}\n",
    "list1 = ['3400602251','3400605025','3128553131','3400621335','9289627675']\n",
    "data_post['waybillNo'] = list1[1]\n",
    "response = requests.post(ups_url, headers=headers_post, json=data_post)\n",
    "trackNodeVos = response.json().get('data')['trackNodeVos']\n",
    "for i in trackNodeVos:\n",
    "    print(i,'\\n')\n"
   ]
  },
  {
   "cell_type": "code",
   "execution_count": 27,
   "id": "f401f76e",
   "metadata": {},
   "outputs": [
    {
     "name": "stdout",
     "output_type": "stream",
     "text": [
      "{\"status\":200,\"message\":\"成功\",\"data\":{\"waybillNo\":null,\"trackNodeVos\":[{\"trackTime\":\"2022-02-16 16:19:34\",\"nodeName\":\"您的包裹我司暂时未收到或可能在快递路上，请稍后再查询\",\"nodeCode\":null,\"location\":\"\\n  \",\"sourceInfo\":\"{\\\"Context\\\":\\\"您的包裹我司暂时未收到或可能在快递路上，请稍后再查询\\\",\\\"Totalpic\\\":\\\"1\\\",\\\"Time\\\":\\\"2022-02-16 16:19:34\\\",\\\"City\\\":\\\"\\\\n  \\\"}\"}]}}\n",
      "\n",
      "change\n"
     ]
    }
   ],
   "source": [
    "ups_url = 'https://gateway.uniner.com/track-j/api/expressTrack/query'\n",
    "headers_post = {'Content-Type': 'application/json; charset=utf-8'}\n",
    "data_post = {\n",
    "    \"firmType\": 5,\n",
    "    \"waybillNo\": \"7352926840\"\n",
    "}\n",
    "response = requests.post(ups_url, headers=headers_post, json=data_post)\n",
    "print(response.text)\n",
    "if '未收到' in response.text:\n",
    "    print('\\nchange')"
   ]
  },
  {
   "cell_type": "code",
   "execution_count": 19,
   "id": "c2c4d296",
   "metadata": {
    "collapsed": true
   },
   "outputs": [
    {
     "name": "stdout",
     "output_type": "stream",
     "text": [
      "{'trackTime': '2021-12-16 12:25:00', 'nodeName': '签收', 'nodeCode': None, 'location': '台湾', 'sourceInfo': '{\"Context\":\"貨件已由信義營業所送達。貨物件數共1件。\",\"Totalpic\":\"\",\"Time\":\"2021-12-16 12:25:00\",\"City\":\"台湾\"}'} \n",
      "\n",
      "{'trackTime': '2021-12-16 08:03:00', 'nodeName': '派送', 'nodeCode': None, 'location': '台湾', 'sourceInfo': '{\"Context\":\"貨件由信義營業所人員配送中。\",\"Totalpic\":\"\",\"Time\":\"2021-12-16 08:03:00\",\"City\":\"台湾\"}'} \n",
      "\n",
      "{'trackTime': '2021-12-16 03:08:00', 'nodeName': '貨件已抵達信義營業所，分貨中。', 'nodeCode': None, 'location': '台湾', 'sourceInfo': '{\"Context\":\"貨件已抵達信義營業所，分貨中。\",\"Totalpic\":\"\",\"Time\":\"2021-12-16 03:08:00\",\"City\":\"台湾\"}'} \n",
      "\n",
      "{'trackTime': '2021-12-15 17:29:00', 'nodeName': '貨件已抵達中壢營業所，貨件整理中。貨物件數共1件。', 'nodeCode': None, 'location': '台湾', 'sourceInfo': '{\"Context\":\"貨件已抵達中壢營業所，貨件整理中。貨物件數共1件。\",\"Totalpic\":\"\",\"Time\":\"2021-12-15 17:29:00\",\"City\":\"台湾\"}'} \n",
      "\n",
      "{'trackTime': '2021-12-15 00:02:54', 'nodeName': '进口报关', 'nodeCode': None, 'location': '台湾', 'sourceInfo': '{\"Context\":\"清关已完成\",\"Totalpic\":\"\",\"Time\":\"2021-12-15 00:02:54\",\"City\":\"台湾\"}'} \n",
      "\n",
      "{'trackTime': '2021-12-15 00:00:13', 'nodeName': '开始清关', 'nodeCode': None, 'location': '台湾', 'sourceInfo': '{\"Context\":\"开始清关\",\"Totalpic\":\"\",\"Time\":\"2021-12-15 00:00:13\",\"City\":\"台湾\"}'} \n",
      "\n",
      "{'trackTime': '2021-12-14 12:20:01', 'nodeName': '起飞/开船', 'nodeCode': None, 'location': '机场', 'sourceInfo': '{\"Context\":\"您的包裹已预配航班\",\"Totalpic\":\"\",\"Time\":\"2021-12-14 12:20:01\",\"City\":\"机场\"}'} \n",
      "\n",
      "{'trackTime': '2021-12-13 13:27:22', 'nodeName': '提取', 'nodeCode': None, 'location': '嘉松中路仓', 'sourceInfo': '{\"Context\":\"已打包，发往下一站\",\"Totalpic\":\"\",\"Time\":\"2021-12-13 13:27:22\",\"City\":\"嘉松中路仓\"}'} \n",
      "\n",
      "{'trackTime': '2021-12-13 13:26:21', 'nodeName': '货物已入库', 'nodeCode': None, 'location': '嘉松中路仓', 'sourceInfo': '{\"Context\":\"货物已入库\",\"Totalpic\":\"\",\"Time\":\"2021-12-13 13:26:21\",\"City\":\"嘉松中路仓\"}'} \n",
      "\n",
      "{'trackTime': '2021-12-13 11:39:03', 'nodeName': '您的订单资料已接收', 'nodeCode': None, 'location': '', 'sourceInfo': '{\"Context\":\"您的订单资料已接收\",\"Totalpic\":\"\",\"Time\":\"2021-12-13 11:39:03\",\"City\":\"\"}'} \n",
      "\n"
     ]
    }
   ],
   "source": [
    "ups_url = 'https://gateway.uniner.com/track-j/api/expressTrack/query'\n",
    "headers_post = {'Content-Type': 'application/json; charset=utf-8'}\n",
    "data_post = {\n",
    "    \"firmType\": 5,\n",
    "    \"waybillNo\": \"8174088077\"\n",
    "}\n",
    "response = requests.post(ups_url, headers=headers_post, json=data_post)\n",
    "trackNodeVos = response.json().get('data')['trackNodeVos']\n",
    "for i in trackNodeVos:\n",
    "    print(i,'\\n')"
   ]
  },
  {
   "cell_type": "code",
   "execution_count": 18,
   "id": "8314e50c",
   "metadata": {
    "collapsed": true
   },
   "outputs": [
    {
     "name": "stdout",
     "output_type": "stream",
     "text": [
      "{'trackTime': '2021-12-0715:49:44', 'nodeName': '签收', 'nodeCode': None, 'location': 'Muar', 'sourceInfo': '{\"waybillNum\":\"MY82188383712\",\"mainnum\":\"\",\"deliverycompany\":\"\",\"count\":\"1\",\"link\":\"\",\"TIME\":\"15:49:44\",\"remark\":\"\",\"destinationCountry\":\"West Malaysia\",\"DATE\":\"2021-12-07\",\"POSITION\":\"Muar\",\"STATUS\":\"\",\"transferNum\":\"60850128870599\",\"podstatus\":\"Delivered\",\"id\":\"\",\"signatory\":\"\",\"podstatus_gp\":\"Delivered\"}'} \n",
      "\n",
      "{'trackTime': '2021-12-0710:41:08', 'nodeName': '派送', 'nodeCode': None, 'location': 'Muar', 'sourceInfo': '{\"waybillNum\":\"MY82188383712\",\"mainnum\":\"\",\"deliverycompany\":\"\",\"count\":\"1\",\"link\":\"\",\"TIME\":\"10:41:08\",\"remark\":\"\",\"destinationCountry\":\"West Malaysia\",\"DATE\":\"2021-12-07\",\"POSITION\":\"Muar\",\"STATUS\":\"\",\"transferNum\":\"60850128870599\",\"podstatus\":\"Branch Outbound in Delivery Branch\",\"id\":\"\",\"signatory\":\"\",\"podstatus_gp\":\"Branch Outbound in Delivery Branch\"}'} \n",
      "\n",
      "{'trackTime': '2021-12-0708:48:36', 'nodeName': 'Branch Inbound in Delivery Branch', 'nodeCode': None, 'location': 'Muar', 'sourceInfo': '{\"waybillNum\":\"MY82188383712\",\"mainnum\":\"\",\"deliverycompany\":\"\",\"count\":\"1\",\"link\":\"\",\"TIME\":\"08:48:36\",\"remark\":\"\",\"destinationCountry\":\"West Malaysia\",\"DATE\":\"2021-12-07\",\"POSITION\":\"Muar\",\"STATUS\":\"\",\"transferNum\":\"60850128870599\",\"podstatus\":\"Branch Inbound in Delivery Branch\",\"id\":\"\",\"signatory\":\"\",\"podstatus_gp\":\"Branch Inbound in Delivery Branch\"}'} \n",
      "\n",
      "{'trackTime': '2021-12-0620:46:34', 'nodeName': 'Hub Inbound', 'nodeCode': None, 'location': 'Petaling Jaya', 'sourceInfo': '{\"waybillNum\":\"MY82188383712\",\"mainnum\":\"\",\"deliverycompany\":\"\",\"count\":\"1\",\"link\":\"\",\"TIME\":\"20:46:34\",\"remark\":\"\",\"destinationCountry\":\"West Malaysia\",\"DATE\":\"2021-12-06\",\"POSITION\":\"Petaling Jaya\",\"STATUS\":\"\",\"transferNum\":\"60850128870599\",\"podstatus\":\"Hub Inbound\",\"id\":\"\",\"signatory\":\"\",\"podstatus_gp\":\"Hub Inbound\"}'} \n",
      "\n",
      "{'trackTime': '2021-12-0519:15:14', 'nodeName': '进口报关', 'nodeCode': None, 'location': 'West Malaysia', 'sourceInfo': '{\"waybillNum\":\"MY82188383712\",\"mainnum\":\"\",\"deliverycompany\":\"\",\"count\":\"1\",\"link\":\"\",\"TIME\":\"19:15:14\",\"remark\":\"\",\"destinationCountry\":\"West Malaysia\",\"DATE\":\"2021-12-05\",\"POSITION\":\"West Malaysia\",\"STATUS\":\"\",\"transferNum\":\"60850128870599\",\"podstatus\":\"Shipment Inbound Scanned\",\"id\":\"\",\"signatory\":\"\",\"podstatus_gp\":\"Shipment Inbound Scanned\"}'} \n",
      "\n",
      "{'trackTime': '2021-12-0409:14:39', 'nodeName': '进口报关', 'nodeCode': None, 'location': 'West Malaysia', 'sourceInfo': '{\"waybillNum\":\"MY82188383712\",\"mainnum\":\"\",\"deliverycompany\":\"\",\"count\":\"1\",\"link\":\"\",\"TIME\":\"09:14:39\",\"remark\":\"\",\"destinationCountry\":\"West Malaysia\",\"DATE\":\"2021-12-04\",\"POSITION\":\"West Malaysia\",\"STATUS\":\"\",\"transferNum\":\"60850128870599\",\"podstatus\":\"Dismantle Cabinets\",\"id\":\"\",\"signatory\":\"\",\"podstatus_gp\":\"Dismantle Cabinets\"}'} \n",
      "\n",
      "{'trackTime': '2021-12-0316:21:28', 'nodeName': 'info', 'nodeCode': None, 'location': 'West Malaysia', 'sourceInfo': '{\"waybillNum\":\"MY82188383712\",\"mainnum\":\"\",\"deliverycompany\":\"\",\"count\":\"1\",\"link\":\"\",\"TIME\":\"16:21:28\",\"remark\":\"已放行，由于同时到港货柜众多，预计12月4~8日入仓拆柜扫描\",\"destinationCountry\":\"West Malaysia\",\"DATE\":\"2021-12-03\",\"POSITION\":\"West Malaysia\",\"STATUS\":\"\",\"transferNum\":\"60850128870599\",\"podstatus\":\"info\",\"id\":\"\",\"signatory\":\"\",\"podstatus_gp\":\"info\"}'} \n",
      "\n",
      "{'trackTime': '2021-11-2714:31:33', 'nodeName': 'Custom Hold', 'nodeCode': None, 'location': 'West Malaysia', 'sourceInfo': '{\"waybillNum\":\"MY82188383712\",\"mainnum\":\"\",\"deliverycompany\":\"\",\"count\":\"1\",\"link\":\"\",\"TIME\":\"14:31:33\",\"remark\":\"HP-0255柜，暂无预计放行时间，放行后会及时同步到系统状态\",\"destinationCountry\":\"West Malaysia\",\"DATE\":\"2021-11-27\",\"POSITION\":\"West Malaysia\",\"STATUS\":\"\",\"transferNum\":\"60850128870599\",\"podstatus\":\"Custom Hold\",\"id\":\"\",\"signatory\":\"\",\"podstatus_gp\":\"Custom Hold\"}'} \n",
      "\n",
      "{'trackTime': '2021-11-2709:29:13', 'nodeName': 'Arrival at Destination port(ATA)', 'nodeCode': None, 'location': 'West Malaysia', 'sourceInfo': '{\"waybillNum\":\"MY82188383712\",\"mainnum\":\"\",\"deliverycompany\":\"\",\"count\":\"1\",\"link\":\"\",\"TIME\":\"09:29:13\",\"remark\":\"\",\"destinationCountry\":\"West Malaysia\",\"DATE\":\"2021-11-27\",\"POSITION\":\"West Malaysia\",\"STATUS\":\"\",\"transferNum\":\"60850128870599\",\"podstatus\":\"Arrival at Destination port(ATA)\",\"id\":\"\",\"signatory\":\"\",\"podstatus_gp\":\"Arrival at Destination port(ATA)\"}'} \n",
      "\n",
      "{'trackTime': '2021-11-2209:10:35', 'nodeName': '起飞/开船', 'nodeCode': None, 'location': 'China', 'sourceInfo': '{\"waybillNum\":\"MY82188383712\",\"mainnum\":\"\",\"deliverycompany\":\"\",\"count\":\"1\",\"link\":\"\",\"TIME\":\"09:10:35\",\"remark\":\"HP-0255  11月22日已开船，预计11月27日到港\",\"destinationCountry\":\"West Malaysia\",\"DATE\":\"2021-11-22\",\"POSITION\":\"China\",\"STATUS\":\"\",\"transferNum\":\"60850128870599\",\"podstatus\":\"Departure from Origin port (ATD)\",\"id\":\"\",\"signatory\":\"\",\"podstatus_gp\":\"Departure from Origin port (ATD)\"}'} \n",
      "\n",
      "{'trackTime': '2021-11-1910:01:52', 'nodeName': 'Shipment Delay', 'nodeCode': None, 'location': 'China', 'sourceInfo': '{\"waybillNum\":\"MY82188383712\",\"mainnum\":\"\",\"deliverycompany\":\"\",\"count\":\"1\",\"link\":\"\",\"TIME\":\"10:01:52\",\"remark\":\"HP-0255  目前查到预计11月26日开船，12月1日到港\",\"destinationCountry\":\"West Malaysia\",\"DATE\":\"2021-11-19\",\"POSITION\":\"China\",\"STATUS\":\"\",\"transferNum\":\"60850128870599\",\"podstatus\":\"Shipment Delay\",\"id\":\"\",\"signatory\":\"\",\"podstatus_gp\":\"Shipment Delay\"}'} \n",
      "\n",
      "{'trackTime': '2021-11-1609:34:41', 'nodeName': 'Shipment Delay', 'nodeCode': None, 'location': 'China', 'sourceInfo': '{\"waybillNum\":\"MY82188383712\",\"mainnum\":\"\",\"deliverycompany\":\"\",\"count\":\"1\",\"link\":\"\",\"TIME\":\"09:34:41\",\"remark\":\"HP-0255  目前查到预计11月19日开船，11月25号到港，实际开船后会及时同步到系统\",\"destinationCountry\":\"West Malaysia\",\"DATE\":\"2021-11-16\",\"POSITION\":\"China\",\"STATUS\":\"\",\"transferNum\":\"60850128870599\",\"podstatus\":\"Shipment Delay\",\"id\":\"\",\"signatory\":\"\",\"podstatus_gp\":\"Shipment Delay\"}'} \n",
      "\n",
      "{'trackTime': '2021-11-1110:58:50', 'nodeName': '起飞/开船', 'nodeCode': None, 'location': 'China', 'sourceInfo': '{\"waybillNum\":\"MY82188383712\",\"mainnum\":\"\",\"deliverycompany\":\"\",\"count\":\"1\",\"link\":\"\",\"TIME\":\"10:58:50\",\"remark\":\"预计开船时间2021-11-15 00:00:00\",\"destinationCountry\":\"West Malaysia\",\"DATE\":\"2021-11-11\",\"POSITION\":\"China\",\"STATUS\":\"\",\"transferNum\":\"60850128870599\",\"podstatus\":\"Shipment Outbound Forecast\",\"id\":\"\",\"signatory\":\"\",\"podstatus_gp\":\"Shipment Outbound Forecast\"}'} \n",
      "\n",
      "{'trackTime': '2021-11-1110:56:10', 'nodeName': 'Shipment Packing', 'nodeCode': None, 'location': 'China', 'sourceInfo': '{\"waybillNum\":\"MY82188383712\",\"mainnum\":\"\",\"deliverycompany\":\"\",\"count\":\"1\",\"link\":\"\",\"TIME\":\"10:56:10\",\"remark\":\"\",\"destinationCountry\":\"West Malaysia\",\"DATE\":\"2021-11-11\",\"POSITION\":\"China\",\"STATUS\":\"\",\"transferNum\":\"60850128870599\",\"podstatus\":\"Shipment Packing\",\"id\":\"\",\"signatory\":\"\",\"podstatus_gp\":\"Shipment Packing\"}'} \n",
      "\n",
      "{'trackTime': '2021-11-0820:41:07', 'nodeName': 'Send to SZX Hub', 'nodeCode': None, 'location': 'China', 'sourceInfo': '{\"waybillNum\":\"MY82188383712\",\"mainnum\":\"\",\"deliverycompany\":\"\",\"count\":\"1\",\"link\":\"\",\"TIME\":\"20:41:07\",\"remark\":\"转海运仓\",\"destinationCountry\":\"West Malaysia\",\"DATE\":\"2021-11-08\",\"POSITION\":\"China\",\"STATUS\":\"\",\"transferNum\":\"60850128870599\",\"podstatus\":\"Send to SZX Hub\",\"id\":\"\",\"signatory\":\"\",\"podstatus_gp\":\"Send to SZX Hub\"}'} \n",
      "\n",
      "{'trackTime': '2021-11-0817:40:45', 'nodeName': '提取', 'nodeCode': None, 'location': 'GuangDong,China', 'sourceInfo': '{\"waybillNum\":\"MY82188383712\",\"mainnum\":\"\",\"deliverycompany\":\"\",\"count\":\"1\",\"link\":\"\",\"TIME\":\"17:40:45\",\"remark\":\"\",\"destinationCountry\":\"West Malaysia\",\"DATE\":\"2021-11-08\",\"POSITION\":\"GuangDong,China\",\"STATUS\":\"\",\"transferNum\":\"60850128870599\",\"podstatus\":\"Shipment Picked Up\",\"id\":\"\",\"signatory\":\"\",\"podstatus_gp\":\"Shipment Picked Up\"}'} \n",
      "\n",
      "{'trackTime': '2021-11-0816:24:51', 'nodeName': 'Ready The Shipment', 'nodeCode': None, 'location': '', 'sourceInfo': '{\"waybillNum\":\"MY82188383712\",\"mainnum\":\"\",\"deliverycompany\":\"\",\"count\":\"1\",\"link\":\"\",\"TIME\":\"16:24:51\",\"remark\":\"\",\"destinationCountry\":\"West Malaysia\",\"DATE\":\"2021-11-08\",\"POSITION\":\"\",\"STATUS\":\"\",\"transferNum\":\"60850128870599\",\"podstatus\":\"Ready The Shipment\",\"id\":\"\",\"signatory\":\"\",\"podstatus_gp\":\"Ready The Shipment\"}'} \n",
      "\n"
     ]
    }
   ],
   "source": [
    "ups_url = 'https://gateway.uniner.com/track-j/api/expressTrack/query'\n",
    "headers_post = {'Content-Type': 'application/json; charset=utf-8'}\n",
    "data_post = {\n",
    "    \"firmType\": 6,\n",
    "    \"waybillNo\": \"MY82188383712\"\n",
    "}\n",
    "response = requests.post(ups_url, headers=headers_post, json=data_post)\n",
    "trackNodeVos = response.json().get('data')['trackNodeVos']\n",
    "for i in trackNodeVos:\n",
    "    print(i,'\\n')"
   ]
  },
  {
   "cell_type": "code",
   "execution_count": 25,
   "id": "9383d41f",
   "metadata": {
    "collapsed": true
   },
   "outputs": [
    {
     "name": "stdout",
     "output_type": "stream",
     "text": [
      "{'trackTime': '2021-12-0309:42:26', 'nodeName': '签收', 'nodeCode': None, 'location': 'Australia', 'sourceInfo': '{\"waybillNum\":\"10299337414\",\"mainnum\":\"\",\"deliverycompany\":\"\",\"count\":\"1\",\"link\":\"\",\"TIME\":\"09:42:26\",\"remark\":\"\",\"destinationCountry\":\"Australia\",\"DATE\":\"2021-12-03\",\"POSITION\":\"Australia\",\"STATUS\":\"\",\"transferNum\":\"\",\"podstatus\":\"Shipment Delivered\",\"id\":\"\",\"signatory\":\"\",\"podstatus_gp\":\"Shipment Delivered\"}'} \n",
      "\n",
      "{'trackTime': '2021-12-0209:35:44', 'nodeName': 'Out For delivery', 'nodeCode': None, 'location': 'Australia', 'sourceInfo': '{\"waybillNum\":\"10299337414\",\"mainnum\":\"\",\"deliverycompany\":\"\",\"count\":\"1\",\"link\":\"\",\"TIME\":\"09:35:44\",\"remark\":\"\",\"destinationCountry\":\"Australia\",\"DATE\":\"2021-12-02\",\"POSITION\":\"Australia\",\"STATUS\":\"\",\"transferNum\":\"\",\"podstatus\":\"Out For delivery\",\"id\":\"\",\"signatory\":\"\",\"podstatus_gp\":\"Out For delivery\"}'} \n",
      "\n",
      "{'trackTime': '2021-11-2912:00:34', 'nodeName': 'Import Clearance Success', 'nodeCode': None, 'location': 'Australia', 'sourceInfo': '{\"waybillNum\":\"10299337414\",\"mainnum\":\"\",\"deliverycompany\":\"\",\"count\":\"1\",\"link\":\"\",\"TIME\":\"12:00:34\",\"remark\":\"\",\"destinationCountry\":\"Australia\",\"DATE\":\"2021-11-29\",\"POSITION\":\"Australia\",\"STATUS\":\"\",\"transferNum\":\"\",\"podstatus\":\"Import Clearance Success\",\"id\":\"\",\"signatory\":\"\",\"podstatus_gp\":\"Import Clearance Success\"}'} \n",
      "\n",
      "{'trackTime': '2021-11-2414:11:53', 'nodeName': '进口报关', 'nodeCode': None, 'location': 'Australia', 'sourceInfo': '{\"waybillNum\":\"10299337414\",\"mainnum\":\"\",\"deliverycompany\":\"\",\"count\":\"1\",\"link\":\"\",\"TIME\":\"14:11:53\",\"remark\":\"AQIS\",\"destinationCountry\":\"Australia\",\"DATE\":\"2021-11-24\",\"POSITION\":\"Australia\",\"STATUS\":\"\",\"transferNum\":\"\",\"podstatus\":\"Cargo Arrived\",\"id\":\"\",\"signatory\":\"\",\"podstatus_gp\":\"Cargo Arrived\"}'} \n",
      "\n",
      "{'trackTime': '2021-11-1813:52:53', 'nodeName': '起飞/开船', 'nodeCode': None, 'location': 'China', 'sourceInfo': '{\"waybillNum\":\"10299337414\",\"mainnum\":\"\",\"deliverycompany\":\"\",\"count\":\"1\",\"link\":\"\",\"TIME\":\"13:52:53\",\"remark\":\"\",\"destinationCountry\":\"Australia\",\"DATE\":\"2021-11-18\",\"POSITION\":\"China\",\"STATUS\":\"\",\"transferNum\":\"\",\"podstatus\":\"Shipment Outbound Scanned\",\"id\":\"\",\"signatory\":\"\",\"podstatus_gp\":\"Shipment Outbound Scanned\"}'} \n",
      "\n",
      "{'trackTime': '2021-11-1717:42:20', 'nodeName': '提取', 'nodeCode': None, 'location': 'GuangDong,China', 'sourceInfo': '{\"waybillNum\":\"10299337414\",\"mainnum\":\"\",\"deliverycompany\":\"\",\"count\":\"1\",\"link\":\"\",\"TIME\":\"17:42:20\",\"remark\":\"\",\"destinationCountry\":\"Australia\",\"DATE\":\"2021-11-17\",\"POSITION\":\"GuangDong,China\",\"STATUS\":\"\",\"transferNum\":\"\",\"podstatus\":\"Shipment Picked Up\",\"id\":\"\",\"signatory\":\"\",\"podstatus_gp\":\"Shipment Picked Up\"}'} \n",
      "\n",
      "{'trackTime': '2021-11-1715:08:33', 'nodeName': 'Ready The Shipment', 'nodeCode': None, 'location': '', 'sourceInfo': '{\"waybillNum\":\"10299337414\",\"mainnum\":\"\",\"deliverycompany\":\"\",\"count\":\"1\",\"link\":\"\",\"TIME\":\"15:08:33\",\"remark\":\"\",\"destinationCountry\":\"Australia\",\"DATE\":\"2021-11-17\",\"POSITION\":\"\",\"STATUS\":\"\",\"transferNum\":\"\",\"podstatus\":\"Ready The Shipment\",\"id\":\"\",\"signatory\":\"\",\"podstatus_gp\":\"Ready The Shipment\"}'} \n",
      "\n"
     ]
    }
   ],
   "source": [
    "ups_url = 'https://gateway.uniner.com/track-j/api/expressTrack/query'\n",
    "headers_post = {'Content-Type': 'application/json; charset=utf-8'}\n",
    "data_post = {\n",
    "    \"firmType\": 6,\n",
    "    \"waybillNo\": \"10299337414\"\n",
    "}\n",
    "response = requests.post(ups_url, headers=headers_post, json=data_post)\n",
    "trackNodeVos = response.json().get('data')['trackNodeVos']\n",
    "for i in trackNodeVos:\n",
    "    print(i,'\\n')"
   ]
  },
  {
   "cell_type": "code",
   "execution_count": null,
   "id": "3257ea15",
   "metadata": {},
   "outputs": [],
   "source": [
    "data_read = pd.read_excel(r'C:\\Users\\EDY\\Desktop\\空运模板表.xlsx', sheet_name='Sheet1')\n",
    "print(data_read.columns)"
   ]
  },
  {
   "cell_type": "code",
   "execution_count": null,
   "id": "107f4b5f",
   "metadata": {},
   "outputs": [],
   "source": [
    "dict1 = {'DP单号':[], '提单号':[], '快递单号':[], '起飞':[], 'Unnamed: 4':[], '抵达':[], 'Unnamed: 6':[], '清关':[],\n",
    "       'Unnamed: 8':[], '提货通知':[], 'Unnamed: 10':[], '提货':[], 'Unnamed: 12':[], '快递提取':[],\n",
    "       'Unnamed: 14':[], '快递签收':[], 'Unnamed: 16':[], '起飞/开船-抵达/到港时效（自然日）':[],\n",
    "       '抵达/到港-目的国海关放行（工作日）':[], '目的国海关放行-快递提取（工作日）':[], '快递提取-快递签收（工作日）':[]}\n",
    "print(len(dict1))"
   ]
  },
  {
   "cell_type": "code",
   "execution_count": null,
   "id": "1577499f",
   "metadata": {},
   "outputs": [],
   "source": [
    "# 海南航空\n",
    "a = [\"880-36050033\", '提单号', '1Z8717R30310888705', None, None, None, None, None, None, None, None, None, None,\n",
    "                 None, None, None, None, None, None, None, None]\n",
    "ups_url = 'https://gateway.uniner.com/track-j/api/airliftTrack/query'\n",
    "headers_post = {'Content-Type': 'application/json; charset=utf-8'}\n",
    "data_post = {\n",
    "    \"firmType\": 1,\n",
    "    \"trackNumber\": \"880-36050033\"\n",
    "}\n",
    "response = requests.post(ups_url, headers=headers_post, json=data_post)\n",
    "print(type(response.json().get('status')))\n",
    "trackNodeVos = response.json().get('data').get('trackNodeVos')\n",
    "\n",
    "for i in trackNodeVos:\n",
    "    print('\\n', i)\n",
    "    if i['nodeCode'] == 'DLV' and a[11] == None:\n",
    "        a[11] = i['trackTime']\n",
    "        a[12] = 'DLV'\n",
    "    elif i['nodeCode'] == 'NFD' and a[9] == None:\n",
    "        a[9] = i['trackTime']\n",
    "        a[10] = 'NFD'\n",
    "    elif i['nodeCode'] == 'CUS' and a[7] == None:\n",
    "        a[7] = i['trackTime']\n",
    "        a[8] = 'CUS'\n",
    "    elif i['nodeCode'] == 'ARR' and a[5] == None:\n",
    "        a[5] = i['trackTime']\n",
    "        a[6] = 'ARR'\n",
    "    elif i['nodeCode'] == 'DEP':\n",
    "        a[3] = i['trackTime']\n",
    "        a[4] = 'DEP' \n",
    "\n",
    "if a[3] != None and a[5] != None:\n",
    "    a[17] = a[3] + ' —— ' + a[5]\n",
    "if a[7] != None and a[5] != None:\n",
    "    a[18] = a[5] + ' —— ' + a[7]\n",
    "elif a[9] != None and a[5] != None:\n",
    "    a[18] = a[5] + ' —— ' + a[9]\n",
    "if a[13] != None and a[7] != None:\n",
    "    a[19] = a[7] + ' —— ' + a[13]\n",
    "elif a[13] != None and a[9] != None:\n",
    "    a[19] = a[9] + ' —— ' + a[13]\n",
    "if a[13] != None and a[15] != None:\n",
    "    a[20] = a[13] + ' —— ' + a[15]\n",
    "print('\\nlist =',a)\n",
    "#     print('\\n', json.loads(i['sourceInfo']))"
   ]
  },
  {
   "cell_type": "code",
   "execution_count": null,
   "id": "51872f53",
   "metadata": {},
   "outputs": [],
   "source": [
    "# 台湾中华空运\n",
    "a = [\"880-36050033\", '提单号', '1Z8717R30310888705', None, None, None, None, None, None, None, None, None, None,\n",
    "                 None, None, None, None, None, None, None, None]\n",
    "ups_url = 'https://gateway.uniner.com/track-j/api/airliftTrack/query'\n",
    "headers_post = {'Content-Type': 'application/json; charset=utf-8'}\n",
    "data_post = {\n",
    "    \"firmType\": 2,\n",
    "    \"trackNumber\": \"297-07484385\"\n",
    "}\n",
    "response = requests.post(ups_url, headers=headers_post, json=data_post)\n",
    "print(type(response.json().get('status')))\n",
    "trackNodeVos = response.json().get('data').get('trackNodeVos')\n",
    "\n",
    "for i in trackNodeVos:\n",
    "    print('\\n', i)\n",
    "    if i['nodeCode'] == '已取货' and a[11] == None:\n",
    "        a[11] = i['trackTime']\n",
    "        a[12] = 'DLV'\n",
    "    elif i['nodeCode'] == '运单提取' and a[9] == None:\n",
    "        a[9] = i['trackTime']\n",
    "        a[10] = 'NFD'\n",
    "    elif i['nodeCode'] == '清关' and a[7] == None:\n",
    "        a[7] = i['trackTime']\n",
    "        a[8] = 'CUS'\n",
    "    elif i['nodeCode'] == '已到达' and a[5] == None:\n",
    "        a[5] = i['trackTime']\n",
    "        a[6] = 'ARR'\n",
    "    elif i['nodeCode'] == '已启程':\n",
    "        a[3] = i['trackTime']\n",
    "        a[4] = 'DEP' \n",
    "print('\\n',a)"
   ]
  },
  {
   "cell_type": "code",
   "execution_count": null,
   "id": "42c78270",
   "metadata": {},
   "outputs": [],
   "source": [
    "# 大韩航空\n",
    "a = [\"880-36050033\", None, '1Z8717R30310888705', None, None, None, None, None, None, None, None, None, None,\n",
    "                 None, None, None, None, None, None, None, None]\n",
    "ups_url = 'https://gateway.uniner.com/track-j/api/airliftTrack/query'\n",
    "headers_post = {'Content-Type': 'application/json; charset=utf-8'}\n",
    "data_post = {\n",
    "    \"firmType\": 3,\n",
    "    \"trackNumber\": \"180-73822851\"\n",
    "}\n",
    "response = requests.post(ups_url, headers=headers_post, json=data_post)\n",
    "# print('status:',response.json().get('status'))\n",
    "trackNodeVos = response.json().get('data').get('trackNodeVos')\n",
    "\n",
    "for i in trackNodeVos:\n",
    "    print('\\n', i)\n",
    "    if i['nodeCode'] == 'DLV' and a[11] == None:\n",
    "        a[11] = i['trackTime']\n",
    "        a[12] = 'DLV'\n",
    "    elif i['nodeCode'] == 'NFD' and a[9] == None:\n",
    "        a[9] = i['trackTime']\n",
    "        a[10] = 'NFD'\n",
    "    elif i['nodeCode'] == 'CUS' and a[7] == None:\n",
    "        a[7] = i['trackTime']\n",
    "        a[8] = 'CUS'\n",
    "    elif i['nodeCode'] == 'ARR' and a[5] == None:\n",
    "        a[5] = i['trackTime']\n",
    "        a[6] = 'ARR'\n",
    "    elif i['nodeCode'] == 'DEP':\n",
    "        a[3] = i['trackTime']\n",
    "        a[4] = 'DEP' \n",
    "print('\\n',a)\n",
    "data_save = {'DP单号':[], '提单号':[], '快递单号':[], '起飞':[], 'Unnamed: 4':[], '抵达':[], 'Unnamed: 6':[], '清关':[],\n",
    "                     'Unnamed: 8':[], '提货通知':[], 'Unnamed: 10':[], '提货':[], 'Unnamed: 12':[], '快递提取':[],\n",
    "                     'Unnamed: 14':[], '快递签收':[], 'Unnamed: 16':[], '起飞/开船-抵达/到港时效（自然日）':[],\n",
    "                     '抵达/到港-目的国海关放行（工作日）':[], '目的国海关放行-快递提取（工作日）':[], '快递提取-快递签收（工作日）':[]}\n",
    "for i, j in zip(a, data_save):\n",
    "    data_save[j].append(i)\n",
    "    print(j,i)"
   ]
  },
  {
   "cell_type": "code",
   "execution_count": null,
   "id": "8ed60ded",
   "metadata": {},
   "outputs": [],
   "source": [
    "# 新加坡航空\n",
    "a = [\"880-36050033\", '提单号', '1Z8717R30310888705', None, None, None, None, None, None, None, None, None, None,\n",
    "                 None, None, None, None, None, None, None, None]\n",
    "ups_url = 'https://gateway.uniner.com/track-j/api/airliftTrack/query'\n",
    "headers_post = {'Content-Type': 'application/json; charset=utf-8'}\n",
    "data_post = {\n",
    "    \"firmType\": 4,\n",
    "    \"trackNumber\": \"618-44240195\"\n",
    "}\n",
    "response = requests.post(ups_url, headers=headers_post, json=data_post)\n",
    "print('status:',response.json().get('status'))\n",
    "trackNodeVos = response.json().get('data').get('trackNodeVos')\n",
    "\n",
    "for i in trackNodeVos:\n",
    "    print('\\n', i)\n",
    "    if i['nodeName'] == '提货':\n",
    "        a[11] = i['trackTime']\n",
    "        a[12] = 'DLV'\n",
    "    elif i['nodeName'] == '到货通知':\n",
    "        a[9] = i['trackTime']\n",
    "        a[10] = 'NFD'\n",
    "    elif i['nodeName'] == '清关':\n",
    "        a[7] = i['trackTime']\n",
    "        a[8] = 'CUS'\n",
    "    elif i['nodeName'] == '抵达':\n",
    "        a[5] = i['trackTime']\n",
    "        a[6] = 'ARR'\n",
    "    elif i['nodeName'] == '起飞' and a[3] == None:\n",
    "        a[3] = i['trackTime']\n",
    "        a[4] = 'DEP' \n",
    "print('\\n',a)"
   ]
  },
  {
   "cell_type": "code",
   "execution_count": null,
   "id": "a7e1d264",
   "metadata": {},
   "outputs": [],
   "source": [
    "# 阿联酋航空\n",
    "a = [\"880-36050033\", '提单号', '1Z8717R30310888705', None, None, None, None, None, None, None, None, None, None,\n",
    "                 None, None, None, None, None, None, None, None]\n",
    "ups_url = 'https://gateway.uniner.com/track-j/api/airliftTrack/query'\n",
    "headers_post = {'Content-Type': 'application/json; charset=utf-8'}\n",
    "data_post = {\n",
    "    \"firmType\": 5,\n",
    "    \"trackNumber\": \"176-65719544\"\n",
    "}\n",
    "response = requests.post(ups_url, headers=headers_post, json=data_post)\n",
    "print('status:',response.json().get('status'))\n",
    "trackNodeVos = response.json().get('data').get('trackNodeVos')\n",
    "\n",
    "for i in trackNodeVos:\n",
    "    time1 = i['trackTime'].split(',')[0].replace(\"]\",\"\").replace(\"[\",\"\")\n",
    "    print('\\n', i)\n",
    "    if i['nodeName'] == '提货' and a[11] == None:\n",
    "        a[11] = time1\n",
    "        a[12] = 'DLV'\n",
    "    elif i['nodeName'] == '到货通知' and a[9] == None:\n",
    "        a[9] = time1\n",
    "        a[10] = 'NFD'\n",
    "    elif i['nodeName'] == '清关' and a[7] == None:\n",
    "        a[7] = time1\n",
    "        a[8] = 'CUS'\n",
    "    elif i['nodeName'] == '抵达' and a[5] == None:\n",
    "        a[5] = time1\n",
    "        a[6] = 'ARR'\n",
    "    elif i['nodeName'] == '起飞':\n",
    "        a[3] = time1\n",
    "        a[4] = 'DEP' \n",
    "print('\\n',a)"
   ]
  },
  {
   "cell_type": "code",
   "execution_count": null,
   "id": "134f310f",
   "metadata": {},
   "outputs": [],
   "source": [
    "# 台湾长荣航空\n",
    "a = [\"695-30601896\", '提单号', '1Z8717R30310888705', None, None, None, None, None, None, None, None, None, None,\n",
    "                 None, None, None, None, None, None, None, None]\n",
    "ups_url = 'https://gateway.uniner.com/track-j/api/airliftTrack/query'\n",
    "headers_post = {'Content-Type': 'application/json; charset=utf-8'}\n",
    "data_post = {\n",
    "    \"firmType\": 6,\n",
    "    \"trackNumber\": \"695-30601896\"\n",
    "}\n",
    "response = requests.post(ups_url, headers=headers_post, json=data_post)\n",
    "print('status:',response.json().get('status'))\n",
    "trackNodeVos = response.json().get('data').get('trackNodeVos')\n",
    "list1 = a\n",
    "for i in trackNodeVos:\n",
    "    if i['nodeCode'] == 'DLV' and list1[11] is None:\n",
    "        list1[11] = datetime.datetime.strptime(i['trackTime'], '%Y/%m/%d %H:%M').strftime('%Y/%m/%d')\n",
    "        list1[12] = i['location']\n",
    "    elif i['nodeCode'] == 'NFD' and list1[9] is None:\n",
    "        list1[9] = datetime.datetime.strptime(i['trackTime'], '%Y/%m/%d %H:%M').strftime('%Y/%m/%d')\n",
    "        list1[10] = i['location']\n",
    "    elif i['nodeCode'] == 'CUS' and list1[7] is None:\n",
    "        list1[7] = datetime.datetime.strptime(i['trackTime'], '%Y/%m/%d %H:%M').strftime('%Y/%m/%d')\n",
    "        list1[8] = i['location']\n",
    "    elif i['nodeCode'] == 'ARR' and list1[5] is None:\n",
    "        list1[5] = datetime.datetime.strptime(i['trackTime'], '%Y/%m/%d %H:%M').strftime('%Y/%m/%d')\n",
    "        list1[6] = i['location']\n",
    "    elif i['nodeCode'] == 'DEP':\n",
    "        list1[3] = datetime.datetime.strptime(i['trackTime'], '%Y/%m/%d %H:%M').strftime('%Y/%m/%d')\n",
    "        list1[4] = i['location']\n",
    "print(list1)"
   ]
  },
  {
   "cell_type": "code",
   "execution_count": null,
   "id": "a496e88f",
   "metadata": {},
   "outputs": [],
   "source": [
    "# 卡塔尔\n",
    "a = [\"157-40662613\", '提单号', '1Z8717R30310888705', None, None, None, None, None, None, None, None, None, None,\n",
    "                 None, None, None, None, None, None, None, None]\n",
    "ups_url = 'https://gateway.uniner.com/track-j/api/airliftTrack/query'\n",
    "headers_post = {'Content-Type': 'application/json; charset=utf-8'}\n",
    "data_post = {\n",
    "    \"firmType\": 7,\n",
    "    \"trackNumber\": \"157-40662613\"\n",
    "}\n",
    "response = requests.post(ups_url, headers=headers_post, json=data_post)\n",
    "print('status:',response.json().get('status'))\n",
    "trackNodeVos = response.json().get('data').get('trackNodeVos')\n",
    "list1 = a\n",
    "for i in trackNodeVos:\n",
    "    if i['nodeCode'] == 'DLV' and list1[11] is None:\n",
    "        list1[11] = datetime.datetime.strptime(i['trackTime'], '%d-%b-%Y').strftime('%Y/%m/%d')\n",
    "        list1[12] = i['location']\n",
    "    elif i['nodeCode'] == 'NFD' and list1[9] is None:\n",
    "        list1[9] = datetime.datetime.strptime(i['trackTime'], '%d-%b-%Y').strftime('%Y/%m/%d')\n",
    "        list1[10] = i['location']\n",
    "    elif i['nodeCode'] == 'CUS' and list1[7] is None:\n",
    "        list1[7] = datetime.datetime.strptime(i['trackTime'], '%d-%b-%Y').strftime('%Y/%m/%d')\n",
    "        list1[8] = i['location']\n",
    "    elif i['nodeCode'] == 'ARR' and list1[5] is None:\n",
    "        list1[5] = datetime.datetime.strptime(i['trackTime'], '%d-%b-%Y').strftime('%Y/%m/%d')\n",
    "        list1[6] = i['location']\n",
    "    elif i['nodeCode'] == 'DEP':\n",
    "        list1[3] = datetime.datetime.strptime(i['trackTime'], '%d-%b-%Y').strftime('%Y/%m/%d')\n",
    "        list1[4] = i['location']\n",
    "print(list1)"
   ]
  },
  {
   "cell_type": "code",
   "execution_count": null,
   "id": "3e3e5c41",
   "metadata": {},
   "outputs": [],
   "source": [
    "# 韩亚航空空运\n",
    "a = [\"988-65729241\", '提单号', '1Z8717R30310888705', None, None, None, None, None, None, None, None, None, None,\n",
    "                 None, None, None, None, None, None, None, None]\n",
    "ups_url = 'https://gateway.uniner.com/track-j/api/airliftTrack/query'\n",
    "headers_post = {'Content-Type': 'application/json; charset=utf-8'}\n",
    "data_post = {\n",
    "    \"firmType\": 8,\n",
    "    \"trackNumber\": \"988-65729241\"\n",
    "}\n",
    "response = requests.post(ups_url, headers=headers_post, json=data_post)\n",
    "print('status:',response.json().get('status'))\n",
    "trackNodeVos = response.json().get('data').get('trackNodeVos')\n",
    "list1 = a\n",
    "for i in trackNodeVos:\n",
    "    if i['nodeCode'] == 'DLV':\n",
    "        list1[11] = datetime.datetime.strptime(i['trackTime'], '%Y-%m-%d %H:%M').strftime('%Y/%m/%d')\n",
    "        list1[12] = i['location']\n",
    "    elif i['nodeCode'] == 'NFD':\n",
    "        list1[9] = datetime.datetime.strptime(i['trackTime'], '%Y-%m-%d %H:%M').strftime('%Y/%m/%d')\n",
    "        list1[10] = i['location']\n",
    "    elif i['nodeCode'] == 'CUS':\n",
    "        list1[7] = datetime.datetime.strptime(i['trackTime'], '%Y-%m-%d %H:%M').strftime('%Y/%m/%d')\n",
    "        list1[8] = i['location']\n",
    "    elif i['nodeCode'] == 'ARR':\n",
    "        list1[5] = datetime.datetime.strptime(i['trackTime'], '%Y-%m-%d %H:%M').strftime('%Y/%m/%d')\n",
    "        list1[6] = i['location']\n",
    "    elif i['nodeCode'] == 'DEP' and list1[3] is None:\n",
    "        list1[3] = datetime.datetime.strptime(i['trackTime'], '%Y-%m-%d %H:%M').strftime('%Y/%m/%d')\n",
    "        list1[4] = i['location']\n",
    "print(list1)"
   ]
  },
  {
   "cell_type": "code",
   "execution_count": null,
   "id": "6be42686",
   "metadata": {},
   "outputs": [],
   "source": [
    "# 国泰\n",
    "a = [\"988-65729241\", '提单号', '1Z8717R30310888705', None, None, None, None, None, None, None, None, None, None,\n",
    "                 None, None, None, None, None, None, None, None]\n",
    "ups_url = 'https://gateway.uniner.com/track-j/api/airliftTrack/query'\n",
    "headers_post = {'Content-Type': 'application/json; charset=utf-8'}\n",
    "data_post = {\n",
    "    \"firmType\": 9,\n",
    "    \"trackNumber\": \"160-63703220\"\n",
    "}\n",
    "response = requests.post(ups_url, headers=headers_post, json=data_post)\n",
    "print('status:',response.json().get('status'))\n",
    "trackNodeVos = response.json().get('data').get('trackNodeVos')\n",
    "list1 = a\n",
    "for i in trackNodeVos:\n",
    "    if i['nodeCode'] == 'DLV':\n",
    "        list1[11] = i['trackTime']\n",
    "        list1[12] = i['location']\n",
    "    elif i['nodeCode'] == 'NFD':\n",
    "        list1[9] = i['trackTime']\n",
    "        list1[10] = i['location']\n",
    "    elif i['nodeCode'] == 'CUS':\n",
    "        list1[7] = i['trackTime']\n",
    "        list1[8] = i['location']\n",
    "    elif i['nodeCode'] == 'ARR':\n",
    "        list1[5] = i['trackTime']\n",
    "        list1[6] = i['location']\n",
    "    elif i['nodeCode'] == 'DEP' and list1[3] is None:\n",
    "        list1[3] = i['trackTime']\n",
    "        list1[4] = i['location']\n",
    "print(list1)"
   ]
  },
  {
   "cell_type": "code",
   "execution_count": null,
   "id": "0f3d510e",
   "metadata": {},
   "outputs": [],
   "source": []
  }
 ],
 "metadata": {
  "kernelspec": {
   "display_name": "Python 3 (ipykernel)",
   "language": "python",
   "name": "python3"
  },
  "language_info": {
   "codemirror_mode": {
    "name": "ipython",
    "version": 3
   },
   "file_extension": ".py",
   "mimetype": "text/x-python",
   "name": "python",
   "nbconvert_exporter": "python",
   "pygments_lexer": "ipython3",
   "version": "3.8.6"
  }
 },
 "nbformat": 4,
 "nbformat_minor": 5
}
